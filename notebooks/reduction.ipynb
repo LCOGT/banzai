{
 "cells": [
  {
   "attachments": {},
   "cell_type": "markdown",
   "metadata": {},
   "source": [
    "# Reprocessing procedure for Las Campanas Observatory Swope data using BANZAI-Imaging\n",
    "## Matt Daily"
   ]
  },
  {
   "attachments": {},
   "cell_type": "markdown",
   "metadata": {},
   "source": [
    "## Set up relevant runtime configuration"
   ]
  },
  {
   "cell_type": "code",
   "execution_count": 1,
   "metadata": {},
   "outputs": [
    {
     "name": "stderr",
     "output_type": "stream",
     "text": [
      "ERROR:root:ConnectionError(MaxRetryError(\"HTTPConnectionPool(host='scheduler-dev.lco.gtn', port=80): Max retries exceeded with url: /api/version (Caused by NewConnectionError('<urllib3.connection.HTTPConnection object at 0x127591550>: Failed to establish a new connection: [Errno 8] nodename nor servname provided, or not known'))\"))\n"
     ]
    }
   ],
   "source": [
    "import logging\n",
    "from glob import glob\n",
    "import os\n",
    "import re\n",
    "\n",
    "from banzai.calibrations import make_master_calibrations\n",
    "from banzai import settings\n",
    "from banzai import dbs\n",
    "from banzai.utils.stage_utils import run_pipeline_stages\n",
    "from banzai.logs import set_log_level\n",
    "import banzai.main\n",
    "\n",
    "import pkg_resources\n",
    "import requests\n",
    "from astropy.io import fits\n",
    "\n",
    "\n",
    "set_log_level('DEBUG')\n",
    "logger = logging.getLogger('banzai')\n",
    "\n",
    "os.environ['OPENTSDB_PYTHON_METRICS_TEST_MODE'] = 'True'\n",
    "os.environ['DB_ADDRESS'] = 'sqlite:///test.db'\n",
    "\n",
    "settings.processed_path= os.path.join(os.getcwd(), 'test_data')\n",
    "settings.fpack=True\n",
    "settings.db_address = os.environ['DB_ADDRESS']\n",
    "settings.no_bpm = True\n",
    "settings.reduction_level = 91\n",
    "\n",
    "# set up the context object.\n",
    "context = banzai.main.parse_args(settings, parse_system_args=False)"
   ]
  },
  {
   "attachments": {},
   "cell_type": "markdown",
   "metadata": {},
   "source": [
    "### Take the data from the directory and combine it into MEFs\n",
    "This branch of BANZAI expects that each amplifier have an extension in an MEF. BANZAI can then do the work of stitching them together."
   ]
  },
  {
   "cell_type": "code",
   "execution_count": 2,
   "metadata": {},
   "outputs": [],
   "source": [
    "raw_data_dir = os.path.join(os.getcwd(), 'swope_data', 'raw')\n",
    "mef_combined_data_dir = os.path.join(os.getcwd(), 'swope_data', 'mef_combined')\n",
    "processed_data_dir = os.path.join(os.getcwd(), 'swope_data', 'processed')"
   ]
  },
  {
   "cell_type": "code",
   "execution_count": 3,
   "metadata": {},
   "outputs": [],
   "source": [
    "prefix_set = set()\n",
    "for file_path in glob(os.path.join(raw_data_dir, 'ccd1144*.fits.fz')):\n",
    "    # extract the unique prefixes from the raw data directory\n",
    "    prefix_set.add(re.sub('c\\d', '', file_path))"
   ]
  },
  {
   "cell_type": "code",
   "execution_count": 4,
   "metadata": {},
   "outputs": [],
   "source": [
    "# now create MEFs from the groupings!\n",
    "for prefix in prefix_set:\n",
    "    filepaths = [prefix.replace('.fits.fz', f'c{i}.fits.fz') for i in [4,2,3,1]]\n",
    "\n",
    "    image_hdus = fits.HDUList([fits.PrimaryHDU()])\n",
    "    for path in filepaths:\n",
    "        image_hdus.append(fits.open(path)['COMPRESSED_IMAGE'])\n",
    "\n",
    "    # Now do some munging of the headers.\n",
    "    # 1 is top right, rotate 90 counterclockwise and invert x (x -> -y, y-> -x)\n",
    "    image_hdus[1].data = image_hdus[1].data.T[::-1, ::-1]\n",
    "    image_hdus[1].header['DATASEC'] = '[129:2184,129:2176]'\n",
    "    image_hdus[1].header['BIASSEC'] = '[1:128,1:2176]'\n",
    "    image_hdus[1].header['DETSEC'] = '[2057:4112,2049:4096]'\n",
    "    image_hdus[1].header.pop('TRIMSEC')\n",
    "\n",
    "    # 2 is bottom left rotate 90 clockwise and invert x (y -> x x -> y)\n",
    "    image_hdus[2].data = image_hdus[2].data.T\n",
    "    image_hdus[2].header['DATASEC'] = '[1:2056,1:2048]'\n",
    "    image_hdus[2].header['BIASSEC'] ='[2057:2084,1:2176]'\n",
    "    image_hdus[2].header['DETSEC'] = '[1:2056,1:2048]'\n",
    "    image_hdus[2].header.pop('TRIMSEC')\n",
    "\n",
    "    # 3 bottom right rotate 90 counterclockwise (x-> -y, y - > x)\n",
    "    image_hdus[3].data = image_hdus[3].data.T[:, ::-1]\n",
    "    image_hdus[3].header['DATASEC'] = '[129:2184,1:2048]'\n",
    "    image_hdus[3].header['BIASSEC'] ='[1:129,1:2176]'\n",
    "    image_hdus[3].header['DETSEC'] = '[2057:4112,1:2048]'\n",
    "    image_hdus[3].header.pop('TRIMSEC')\n",
    "\n",
    "    # 4 is top left 270 deg  counterclockwise (x -> y, y->-x)\n",
    "    image_hdus[4].data = image_hdus[4].data.T[::-1, :]\n",
    "    image_hdus[4].header['DATASEC'] = '[1:2056,129:2176]'\n",
    "    image_hdus[4].header['BIASSEC'] ='[2057:2184,1:2176]'\n",
    "    image_hdus[4].header['DETSEC'] = '[1:2056, 2049:4096]'\n",
    "    image_hdus[4].header.pop('TRIMSEC')\n",
    "\n",
    "    # Copy all overlapping values into the main header\n",
    "    for i in image_hdus[1].header:\n",
    "        if i == 'COMMENT' or len(i) == 0:\n",
    "            continue\n",
    "        if image_hdus[2].header.get(i) == image_hdus[1].header.get(i):\n",
    "            image_hdus[0].header[i] = image_hdus[1].header[i]\n",
    "\n",
    "    image_hdus[0].header['TRIMSEC'] = '[1:4112,1:4096]'\n",
    "\n",
    "    for i in range(1,5):\n",
    "        image_hdus[i].header['RDNOISE'] = image_hdus[i].header['ENOISE']\n",
    "        image_hdus[i].header['GAIN']  = image_hdus[i].header['EGAIN'] \n",
    "\n",
    "    # now create an HDUList and a unique filename to store the data in\n",
    "    filename_suffix_obstype_mapping = {'Bias': 'b00',\n",
    "                                       'Flat': 'f00',\n",
    "                                       'Object': 'e00'}\n",
    "    hdu_list = fits.HDUList(image_hdus)\n",
    "    filename = f'{image_hdus[1].header[\"FILENAME\"][:-2]}-{image_hdus[1].header[\"UT-DATE\"].replace(\"-\", \"\")}-{filename_suffix_obstype_mapping[image_hdus[1].header[\"EXPTYPE\"]]}.fits.fz'\n",
    "    hdu_list.writeto(os.path.join(mef_combined_data_dir, filename), overwrite=True)"
   ]
  },
  {
   "cell_type": "code",
   "execution_count": 5,
   "metadata": {},
   "outputs": [
    {
     "data": {
      "text/plain": [
       "0"
      ]
     },
     "execution_count": 5,
     "metadata": {},
     "output_type": "execute_result"
    }
   ],
   "source": [
    "if os.path.exists(os.path.join(os.getcwd(), 'test.db')):\n",
    "    os.remove(os.path.join(os.getcwd(), 'test.db'))\n",
    "if os.path.exists(context.processed_path):\n",
    "    os.system(f'rm -r {context.processed_path}')\n",
    "os.system(f'banzai_create_db --db-address={os.environ[\"DB_ADDRESS\"]}')\n",
    "os.system(f'banzai_add_site --site LCO --latitude -29.08300 --longitude -70.698005 --elevation 2280 --timezone -4 --db-address={os.environ[\"DB_ADDRESS\"]}')\n",
    "os.system(f'banzai_add_instrument --site LCO --camera Direct/4Kx4K-4 --name Direct/4Kx4K-4 --instrument-type swope-imager --db-address={os.environ[\"DB_ADDRESS\"]}')"
   ]
  },
  {
   "cell_type": "code",
   "execution_count": 6,
   "metadata": {},
   "outputs": [],
   "source": [
    "instrument = dbs.get_instruments_at_site('LCO', settings.db_address)[0]"
   ]
  },
  {
   "cell_type": "code",
   "execution_count": 7,
   "metadata": {},
   "outputs": [
    {
     "name": "stdout",
     "output_type": "stream",
     "text": [
      "2023-03-23 10:55:45.117     INFO:          stages: Running banzai.stages.BadPixelMaskLoader | {\"filename\": \"ccd1533-20220925-b00.fits.fz\", \"site\": \"LCO\", \"instrument\": \"Direct/4Kx4K-4\", \"epoch\": \"20220925\", \"request_num\": null, \"obstype\": \"BIAS\", \"filter\": \"r\", \"processName\": \"MainProcess\"}\n"
     ]
    },
    {
     "name": "stderr",
     "output_type": "stream",
     "text": [
      "INFO:banzai:Running banzai.stages.BadPixelMaskLoader | {\"filename\": \"ccd1533-20220925-b00.fits.fz\", \"site\": \"LCO\", \"instrument\": \"Direct/4Kx4K-4\", \"epoch\": \"20220925\", \"request_num\": null, \"obstype\": \"BIAS\", \"filter\": \"r\", \"processName\": \"MainProcess\"}\n"
     ]
    },
    {
     "name": "stdout",
     "output_type": "stream",
     "text": [
      "2023-03-23 10:55:45.128    ERROR:             bpm: Master BPM does not exist | {\"filename\": \"ccd1533-20220925-b00.fits.fz\", \"site\": \"LCO\", \"instrument\": \"Direct/4Kx4K-4\", \"epoch\": \"20220925\", \"request_num\": null, \"obstype\": \"BIAS\", \"filter\": \"r\", \"processName\": \"MainProcess\"}\n"
     ]
    },
    {
     "name": "stderr",
     "output_type": "stream",
     "text": [
      "ERROR:banzai:Master BPM does not exist | {\"filename\": \"ccd1533-20220925-b00.fits.fz\", \"site\": \"LCO\", \"instrument\": \"Direct/4Kx4K-4\", \"epoch\": \"20220925\", \"request_num\": null, \"obstype\": \"BIAS\", \"filter\": \"r\", \"processName\": \"MainProcess\"}\n"
     ]
    },
    {
     "name": "stdout",
     "output_type": "stream",
     "text": [
      "2023-03-23 10:55:45.297     INFO:          stages: Running banzai.stages.OverscanSubtractor | {\"filename\": \"ccd1533-20220925-b00.fits.fz\", \"site\": \"LCO\", \"instrument\": \"Direct/4Kx4K-4\", \"epoch\": \"20220925\", \"request_num\": null, \"obstype\": \"BIAS\", \"filter\": \"r\", \"processName\": \"MainProcess\"}\n"
     ]
    },
    {
     "name": "stderr",
     "output_type": "stream",
     "text": [
      "INFO:banzai:Running banzai.stages.OverscanSubtractor | {\"filename\": \"ccd1533-20220925-b00.fits.fz\", \"site\": \"LCO\", \"instrument\": \"Direct/4Kx4K-4\", \"epoch\": \"20220925\", \"request_num\": null, \"obstype\": \"BIAS\", \"filter\": \"r\", \"processName\": \"MainProcess\"}\n"
     ]
    },
    {
     "name": "stdout",
     "output_type": "stream",
     "text": [
      "2023-03-23 10:55:45.381     INFO:          stages: Running banzai.stages.GainNormalizer | {\"filename\": \"ccd1533-20220925-b00.fits.fz\", \"site\": \"LCO\", \"instrument\": \"Direct/4Kx4K-4\", \"epoch\": \"20220925\", \"request_num\": null, \"obstype\": \"BIAS\", \"filter\": \"r\", \"processName\": \"MainProcess\"}\n"
     ]
    },
    {
     "name": "stderr",
     "output_type": "stream",
     "text": [
      "INFO:banzai:Running banzai.stages.GainNormalizer | {\"filename\": \"ccd1533-20220925-b00.fits.fz\", \"site\": \"LCO\", \"instrument\": \"Direct/4Kx4K-4\", \"epoch\": \"20220925\", \"request_num\": null, \"obstype\": \"BIAS\", \"filter\": \"r\", \"processName\": \"MainProcess\"}\n"
     ]
    },
    {
     "name": "stdout",
     "output_type": "stream",
     "text": [
      "2023-03-23 10:55:45.383     INFO:            gain: Multiplying by gain | {\"filename\": \"ccd1533-20220925-b00.fits.fz\", \"site\": \"LCO\", \"instrument\": \"Direct/4Kx4K-4\", \"epoch\": \"20220925\", \"request_num\": null, \"obstype\": \"BIAS\", \"filter\": \"r\", \"processName\": \"MainProcess\"}\n"
     ]
    },
    {
     "name": "stderr",
     "output_type": "stream",
     "text": [
      "INFO:banzai:Multiplying by gain | {\"filename\": \"ccd1533-20220925-b00.fits.fz\", \"site\": \"LCO\", \"instrument\": \"Direct/4Kx4K-4\", \"epoch\": \"20220925\", \"request_num\": null, \"obstype\": \"BIAS\", \"filter\": \"r\", \"processName\": \"MainProcess\"}\n"
     ]
    },
    {
     "name": "stdout",
     "output_type": "stream",
     "text": [
      "2023-03-23 10:55:45.427     INFO:          stages: Running banzai.stages.MosaicCreator | {\"filename\": \"ccd1533-20220925-b00.fits.fz\", \"site\": \"LCO\", \"instrument\": \"Direct/4Kx4K-4\", \"epoch\": \"20220925\", \"request_num\": null, \"obstype\": \"BIAS\", \"filter\": \"r\", \"processName\": \"MainProcess\"}\n"
     ]
    },
    {
     "name": "stderr",
     "output_type": "stream",
     "text": [
      "INFO:banzai:Running banzai.stages.MosaicCreator | {\"filename\": \"ccd1533-20220925-b00.fits.fz\", \"site\": \"LCO\", \"instrument\": \"Direct/4Kx4K-4\", \"epoch\": \"20220925\", \"request_num\": null, \"obstype\": \"BIAS\", \"filter\": \"r\", \"processName\": \"MainProcess\"}\n"
     ]
    },
    {
     "name": "stdout",
     "output_type": "stream",
     "text": [
      "2023-03-23 10:55:45.429     INFO:          mosaic: Mosaicing image | {\"filename\": \"ccd1533-20220925-b00.fits.fz\", \"site\": \"LCO\", \"instrument\": \"Direct/4Kx4K-4\", \"epoch\": \"20220925\", \"request_num\": null, \"obstype\": \"BIAS\", \"filter\": \"r\", \"processName\": \"MainProcess\"}\n"
     ]
    },
    {
     "name": "stderr",
     "output_type": "stream",
     "text": [
      "INFO:banzai:Mosaicing image | {\"filename\": \"ccd1533-20220925-b00.fits.fz\", \"site\": \"LCO\", \"instrument\": \"Direct/4Kx4K-4\", \"epoch\": \"20220925\", \"request_num\": null, \"obstype\": \"BIAS\", \"filter\": \"r\", \"processName\": \"MainProcess\"}\n"
     ]
    },
    {
     "name": "stdout",
     "output_type": "stream",
     "text": [
      "2023-03-23 10:55:46.899     INFO:          stages: Running banzai.stages.Trimmer | {\"filename\": \"ccd1533-20220925-b00.fits.fz\", \"site\": \"LCO\", \"instrument\": \"Direct/4Kx4K-4\", \"epoch\": \"20220925\", \"request_num\": null, \"obstype\": \"BIAS\", \"filter\": \"r\", \"processName\": \"MainProcess\"}\n"
     ]
    },
    {
     "name": "stderr",
     "output_type": "stream",
     "text": [
      "INFO:banzai:Running banzai.stages.Trimmer | {\"filename\": \"ccd1533-20220925-b00.fits.fz\", \"site\": \"LCO\", \"instrument\": \"Direct/4Kx4K-4\", \"epoch\": \"20220925\", \"request_num\": null, \"obstype\": \"BIAS\", \"filter\": \"r\", \"processName\": \"MainProcess\"}\n"
     ]
    },
    {
     "name": "stdout",
     "output_type": "stream",
     "text": [
      "2023-03-23 10:55:46.901     INFO:            trim: Trimming image | {\"filename\": \"ccd1533-20220925-b00.fits.fz\", \"site\": \"LCO\", \"instrument\": \"Direct/4Kx4K-4\", \"epoch\": \"20220925\", \"request_num\": null, \"obstype\": \"BIAS\", \"filter\": \"r\", \"processName\": \"MainProcess\"}\n"
     ]
    },
    {
     "name": "stderr",
     "output_type": "stream",
     "text": [
      "INFO:banzai:Trimming image | {\"filename\": \"ccd1533-20220925-b00.fits.fz\", \"site\": \"LCO\", \"instrument\": \"Direct/4Kx4K-4\", \"epoch\": \"20220925\", \"request_num\": null, \"obstype\": \"BIAS\", \"filter\": \"r\", \"processName\": \"MainProcess\"}\n"
     ]
    },
    {
     "name": "stdout",
     "output_type": "stream",
     "text": [
      "2023-03-23 10:55:47.329     INFO:          stages: Running banzai.stages.BiasMasterLevelSubtractor | {\"filename\": \"ccd1533-20220925-b00.fits.fz\", \"site\": \"LCO\", \"instrument\": \"Direct/4Kx4K-4\", \"epoch\": \"20220925\", \"request_num\": null, \"obstype\": \"BIAS\", \"filter\": \"r\", \"processName\": \"MainProcess\"}\n"
     ]
    },
    {
     "name": "stderr",
     "output_type": "stream",
     "text": [
      "INFO:banzai:Running banzai.stages.BiasMasterLevelSubtractor | {\"filename\": \"ccd1533-20220925-b00.fits.fz\", \"site\": \"LCO\", \"instrument\": \"Direct/4Kx4K-4\", \"epoch\": \"20220925\", \"request_num\": null, \"obstype\": \"BIAS\", \"filter\": \"r\", \"processName\": \"MainProcess\"}\n"
     ]
    },
    {
     "name": "stdout",
     "output_type": "stream",
     "text": [
      "2023-03-23 10:55:48.311     INFO:          stages: Running banzai.stages.BiasComparer | {\"filename\": \"ccd1533-20220925-b00.fits.fz\", \"site\": \"LCO\", \"instrument\": \"Direct/4Kx4K-4\", \"epoch\": \"20220925\", \"request_num\": null, \"obstype\": \"BIAS\", \"filter\": \"r\", \"processName\": \"MainProcess\"}\n"
     ]
    },
    {
     "name": "stderr",
     "output_type": "stream",
     "text": [
      "INFO:banzai:Running banzai.stages.BiasComparer | {\"filename\": \"ccd1533-20220925-b00.fits.fz\", \"site\": \"LCO\", \"instrument\": \"Direct/4Kx4K-4\", \"epoch\": \"20220925\", \"request_num\": null, \"obstype\": \"BIAS\", \"filter\": \"r\", \"processName\": \"MainProcess\"}\n"
     ]
    },
    {
     "name": "stdout",
     "output_type": "stream",
     "text": [
      "2023-03-23 10:55:48.320    ERROR:    calibrations: No master bias to compare to, Flagging image as bad. | {\"filename\": \"ccd1533-20220925-b00.fits.fz\", \"site\": \"LCO\", \"instrument\": \"Direct/4Kx4K-4\", \"epoch\": \"20220925\", \"request_num\": null, \"obstype\": \"BIAS\", \"filter\": \"r\", \"processName\": \"MainProcess\"}\n"
     ]
    },
    {
     "name": "stderr",
     "output_type": "stream",
     "text": [
      "ERROR:banzai:No master bias to compare to, Flagging image as bad. | {\"filename\": \"ccd1533-20220925-b00.fits.fz\", \"site\": \"LCO\", \"instrument\": \"Direct/4Kx4K-4\", \"epoch\": \"20220925\", \"request_num\": null, \"obstype\": \"BIAS\", \"filter\": \"r\", \"processName\": \"MainProcess\"}\n"
     ]
    }
   ],
   "source": [
    "bias_files = glob(os.path.join(mef_combined_data_dir, '*b00*'))\n",
    "for bias_file in bias_files:\n",
    "    run_pipeline_stages([{'path': bias_file}], context)"
   ]
  },
  {
   "cell_type": "code",
   "execution_count": 8,
   "metadata": {},
   "outputs": [],
   "source": [
    "def mark_frames_as_good(filenames):\n",
    "    for filename in glob(f'test_data/LCO/*/*/processed/{filenames}'):\n",
    "        dbs.mark_frame(os.path.basename(filename), \"good\", db_address=os.environ['DB_ADDRESS'])"
   ]
  },
  {
   "cell_type": "code",
   "execution_count": 9,
   "metadata": {},
   "outputs": [],
   "source": [
    "mark_frames_as_good('*b91*')"
   ]
  },
  {
   "cell_type": "code",
   "execution_count": 10,
   "metadata": {},
   "outputs": [
    {
     "name": "stdout",
     "output_type": "stream",
     "text": [
      "2023-03-23 10:55:51.504     INFO:    calibrations: Making master frames | {\"type\": \"swope-imager\", \"site\": \"LCO\", \"camera\": \"Direct/4Kx4K-4\", \"obstype\": \"Bias\", \"min_date\": \"2022-09-20\", \"max_date\": \"2022-09-30\", \"processName\": \"MainProcess\"}\n"
     ]
    },
    {
     "name": "stderr",
     "output_type": "stream",
     "text": [
      "INFO:banzai:Making master frames | {\"type\": \"swope-imager\", \"site\": \"LCO\", \"camera\": \"Direct/4Kx4K-4\", \"obstype\": \"Bias\", \"min_date\": \"2022-09-20\", \"max_date\": \"2022-09-30\", \"processName\": \"MainProcess\"}\n"
     ]
    },
    {
     "name": "stdout",
     "output_type": "stream",
     "text": [
      "2023-03-23 10:55:52.193     INFO:          stages: Running banzai.stages.BiasMaker | {\"filename\": \"ccd1533-20220925-b91.fits.fz\", \"site\": \"LCO\", \"instrument\": \"Direct/4Kx4K-4\", \"epoch\": \"20220925\", \"request_num\": null, \"obstype\": \"BIAS\", \"filter\": \"r\", \"processName\": \"MainProcess\"}\n"
     ]
    },
    {
     "name": "stderr",
     "output_type": "stream",
     "text": [
      "INFO:banzai:Running banzai.stages.BiasMaker | {\"filename\": \"ccd1533-20220925-b91.fits.fz\", \"site\": \"LCO\", \"instrument\": \"Direct/4Kx4K-4\", \"epoch\": \"20220925\", \"request_num\": null, \"obstype\": \"BIAS\", \"filter\": \"r\", \"processName\": \"MainProcess\"}\n"
     ]
    },
    {
     "name": "stdout",
     "output_type": "stream",
     "text": [
      "2023-03-23 10:55:54.322     INFO:    calibrations: Created master calibration stack | {\"filename\": \"4Kx4K-4-20220925-bias-bin1x1.fits\", \"site\": \"LCO\", \"instrument\": \"Direct/4Kx4K-4\", \"epoch\": \"20220925\", \"request_num\": null, \"obstype\": \"BIAS\", \"filter\": \"r\", \"calibration_type\": \"BIAS\", \"processName\": \"MainProcess\"}\n"
     ]
    },
    {
     "name": "stderr",
     "output_type": "stream",
     "text": [
      "INFO:banzai:Created master calibration stack | {\"filename\": \"4Kx4K-4-20220925-bias-bin1x1.fits\", \"site\": \"LCO\", \"instrument\": \"Direct/4Kx4K-4\", \"epoch\": \"20220925\", \"request_num\": null, \"obstype\": \"BIAS\", \"filter\": \"r\", \"calibration_type\": \"BIAS\", \"processName\": \"MainProcess\"}\n"
     ]
    },
    {
     "name": "stdout",
     "output_type": "stream",
     "text": [
      "2023-03-23 10:55:58.364     INFO:    calibrations: Finished | {\"processName\": \"MainProcess\"}\n"
     ]
    },
    {
     "name": "stderr",
     "output_type": "stream",
     "text": [
      "INFO:banzai:Finished | {\"processName\": \"MainProcess\"}\n"
     ]
    }
   ],
   "source": [
    "make_master_calibrations(instrument, 'Bias', '2022-09-20', '2022-09-30', context)"
   ]
  },
  {
   "cell_type": "code",
   "execution_count": 11,
   "metadata": {},
   "outputs": [
    {
     "name": "stdout",
     "output_type": "stream",
     "text": [
      "2023-03-23 10:55:59.393     INFO:          stages: Running banzai.stages.BadPixelMaskLoader | {\"filename\": \"ccd1083-20220925-f00.fits.fz\", \"site\": \"LCO\", \"instrument\": \"Direct/4Kx4K-4\", \"epoch\": \"20220925\", \"request_num\": null, \"obstype\": \"FLAT\", \"filter\": \"r\", \"processName\": \"MainProcess\"}\n"
     ]
    },
    {
     "name": "stderr",
     "output_type": "stream",
     "text": [
      "INFO:banzai:Running banzai.stages.BadPixelMaskLoader | {\"filename\": \"ccd1083-20220925-f00.fits.fz\", \"site\": \"LCO\", \"instrument\": \"Direct/4Kx4K-4\", \"epoch\": \"20220925\", \"request_num\": null, \"obstype\": \"FLAT\", \"filter\": \"r\", \"processName\": \"MainProcess\"}\n"
     ]
    },
    {
     "name": "stdout",
     "output_type": "stream",
     "text": [
      "2023-03-23 10:55:59.403    ERROR:             bpm: Master BPM does not exist | {\"filename\": \"ccd1083-20220925-f00.fits.fz\", \"site\": \"LCO\", \"instrument\": \"Direct/4Kx4K-4\", \"epoch\": \"20220925\", \"request_num\": null, \"obstype\": \"FLAT\", \"filter\": \"r\", \"processName\": \"MainProcess\"}\n"
     ]
    },
    {
     "name": "stderr",
     "output_type": "stream",
     "text": [
      "ERROR:banzai:Master BPM does not exist | {\"filename\": \"ccd1083-20220925-f00.fits.fz\", \"site\": \"LCO\", \"instrument\": \"Direct/4Kx4K-4\", \"epoch\": \"20220925\", \"request_num\": null, \"obstype\": \"FLAT\", \"filter\": \"r\", \"processName\": \"MainProcess\"}\n"
     ]
    },
    {
     "name": "stdout",
     "output_type": "stream",
     "text": [
      "2023-03-23 10:55:59.590     INFO:          stages: Running banzai.stages.OverscanSubtractor | {\"filename\": \"ccd1083-20220925-f00.fits.fz\", \"site\": \"LCO\", \"instrument\": \"Direct/4Kx4K-4\", \"epoch\": \"20220925\", \"request_num\": null, \"obstype\": \"FLAT\", \"filter\": \"r\", \"processName\": \"MainProcess\"}\n"
     ]
    },
    {
     "name": "stderr",
     "output_type": "stream",
     "text": [
      "INFO:banzai:Running banzai.stages.OverscanSubtractor | {\"filename\": \"ccd1083-20220925-f00.fits.fz\", \"site\": \"LCO\", \"instrument\": \"Direct/4Kx4K-4\", \"epoch\": \"20220925\", \"request_num\": null, \"obstype\": \"FLAT\", \"filter\": \"r\", \"processName\": \"MainProcess\"}\n"
     ]
    },
    {
     "name": "stdout",
     "output_type": "stream",
     "text": [
      "2023-03-23 10:55:59.672     INFO:          stages: Running banzai.stages.GainNormalizer | {\"filename\": \"ccd1083-20220925-f00.fits.fz\", \"site\": \"LCO\", \"instrument\": \"Direct/4Kx4K-4\", \"epoch\": \"20220925\", \"request_num\": null, \"obstype\": \"FLAT\", \"filter\": \"r\", \"processName\": \"MainProcess\"}\n"
     ]
    },
    {
     "name": "stderr",
     "output_type": "stream",
     "text": [
      "INFO:banzai:Running banzai.stages.GainNormalizer | {\"filename\": \"ccd1083-20220925-f00.fits.fz\", \"site\": \"LCO\", \"instrument\": \"Direct/4Kx4K-4\", \"epoch\": \"20220925\", \"request_num\": null, \"obstype\": \"FLAT\", \"filter\": \"r\", \"processName\": \"MainProcess\"}\n"
     ]
    },
    {
     "name": "stdout",
     "output_type": "stream",
     "text": [
      "2023-03-23 10:55:59.673     INFO:            gain: Multiplying by gain | {\"filename\": \"ccd1083-20220925-f00.fits.fz\", \"site\": \"LCO\", \"instrument\": \"Direct/4Kx4K-4\", \"epoch\": \"20220925\", \"request_num\": null, \"obstype\": \"FLAT\", \"filter\": \"r\", \"processName\": \"MainProcess\"}\n"
     ]
    },
    {
     "name": "stderr",
     "output_type": "stream",
     "text": [
      "INFO:banzai:Multiplying by gain | {\"filename\": \"ccd1083-20220925-f00.fits.fz\", \"site\": \"LCO\", \"instrument\": \"Direct/4Kx4K-4\", \"epoch\": \"20220925\", \"request_num\": null, \"obstype\": \"FLAT\", \"filter\": \"r\", \"processName\": \"MainProcess\"}\n"
     ]
    },
    {
     "name": "stdout",
     "output_type": "stream",
     "text": [
      "2023-03-23 10:55:59.719     INFO:          stages: Running banzai.stages.MosaicCreator | {\"filename\": \"ccd1083-20220925-f00.fits.fz\", \"site\": \"LCO\", \"instrument\": \"Direct/4Kx4K-4\", \"epoch\": \"20220925\", \"request_num\": null, \"obstype\": \"FLAT\", \"filter\": \"r\", \"processName\": \"MainProcess\"}\n"
     ]
    },
    {
     "name": "stderr",
     "output_type": "stream",
     "text": [
      "INFO:banzai:Running banzai.stages.MosaicCreator | {\"filename\": \"ccd1083-20220925-f00.fits.fz\", \"site\": \"LCO\", \"instrument\": \"Direct/4Kx4K-4\", \"epoch\": \"20220925\", \"request_num\": null, \"obstype\": \"FLAT\", \"filter\": \"r\", \"processName\": \"MainProcess\"}\n"
     ]
    },
    {
     "name": "stdout",
     "output_type": "stream",
     "text": [
      "2023-03-23 10:55:59.721     INFO:          mosaic: Mosaicing image | {\"filename\": \"ccd1083-20220925-f00.fits.fz\", \"site\": \"LCO\", \"instrument\": \"Direct/4Kx4K-4\", \"epoch\": \"20220925\", \"request_num\": null, \"obstype\": \"FLAT\", \"filter\": \"r\", \"processName\": \"MainProcess\"}\n"
     ]
    },
    {
     "name": "stderr",
     "output_type": "stream",
     "text": [
      "INFO:banzai:Mosaicing image | {\"filename\": \"ccd1083-20220925-f00.fits.fz\", \"site\": \"LCO\", \"instrument\": \"Direct/4Kx4K-4\", \"epoch\": \"20220925\", \"request_num\": null, \"obstype\": \"FLAT\", \"filter\": \"r\", \"processName\": \"MainProcess\"}\n"
     ]
    },
    {
     "name": "stdout",
     "output_type": "stream",
     "text": [
      "2023-03-23 10:56:01.127     INFO:          stages: Running banzai.stages.Trimmer | {\"filename\": \"ccd1083-20220925-f00.fits.fz\", \"site\": \"LCO\", \"instrument\": \"Direct/4Kx4K-4\", \"epoch\": \"20220925\", \"request_num\": null, \"obstype\": \"FLAT\", \"filter\": \"r\", \"processName\": \"MainProcess\"}\n"
     ]
    },
    {
     "name": "stderr",
     "output_type": "stream",
     "text": [
      "INFO:banzai:Running banzai.stages.Trimmer | {\"filename\": \"ccd1083-20220925-f00.fits.fz\", \"site\": \"LCO\", \"instrument\": \"Direct/4Kx4K-4\", \"epoch\": \"20220925\", \"request_num\": null, \"obstype\": \"FLAT\", \"filter\": \"r\", \"processName\": \"MainProcess\"}\n"
     ]
    },
    {
     "name": "stdout",
     "output_type": "stream",
     "text": [
      "2023-03-23 10:56:01.128     INFO:            trim: Trimming image | {\"filename\": \"ccd1083-20220925-f00.fits.fz\", \"site\": \"LCO\", \"instrument\": \"Direct/4Kx4K-4\", \"epoch\": \"20220925\", \"request_num\": null, \"obstype\": \"FLAT\", \"filter\": \"r\", \"processName\": \"MainProcess\"}\n"
     ]
    },
    {
     "name": "stderr",
     "output_type": "stream",
     "text": [
      "INFO:banzai:Trimming image | {\"filename\": \"ccd1083-20220925-f00.fits.fz\", \"site\": \"LCO\", \"instrument\": \"Direct/4Kx4K-4\", \"epoch\": \"20220925\", \"request_num\": null, \"obstype\": \"FLAT\", \"filter\": \"r\", \"processName\": \"MainProcess\"}\n"
     ]
    },
    {
     "name": "stdout",
     "output_type": "stream",
     "text": [
      "2023-03-23 10:56:01.572     INFO:          stages: Running banzai.stages.BiasSubtractor | {\"filename\": \"ccd1083-20220925-f00.fits.fz\", \"site\": \"LCO\", \"instrument\": \"Direct/4Kx4K-4\", \"epoch\": \"20220925\", \"request_num\": null, \"obstype\": \"FLAT\", \"filter\": \"r\", \"processName\": \"MainProcess\"}\n"
     ]
    },
    {
     "name": "stderr",
     "output_type": "stream",
     "text": [
      "INFO:banzai:Running banzai.stages.BiasSubtractor | {\"filename\": \"ccd1083-20220925-f00.fits.fz\", \"site\": \"LCO\", \"instrument\": \"Direct/4Kx4K-4\", \"epoch\": \"20220925\", \"request_num\": null, \"obstype\": \"FLAT\", \"filter\": \"r\", \"processName\": \"MainProcess\"}\n"
     ]
    },
    {
     "name": "stdout",
     "output_type": "stream",
     "text": [
      "2023-03-23 10:56:02.290     INFO:    calibrations: Applying master calibration | {\"filename\": \"ccd1083-20220925-f00.fits.fz\", \"site\": \"LCO\", \"instrument\": \"Direct/4Kx4K-4\", \"epoch\": \"20220925\", \"request_num\": null, \"obstype\": \"FLAT\", \"filter\": \"r\", \"master_calibration\": \"4Kx4K-4-20220925-bias-bin1x1.fits.fz\", \"processName\": \"MainProcess\"}\n"
     ]
    },
    {
     "name": "stderr",
     "output_type": "stream",
     "text": [
      "INFO:banzai:Applying master calibration | {\"filename\": \"ccd1083-20220925-f00.fits.fz\", \"site\": \"LCO\", \"instrument\": \"Direct/4Kx4K-4\", \"epoch\": \"20220925\", \"request_num\": null, \"obstype\": \"FLAT\", \"filter\": \"r\", \"master_calibration\": \"4Kx4K-4-20220925-bias-bin1x1.fits.fz\", \"processName\": \"MainProcess\"}\n"
     ]
    },
    {
     "name": "stdout",
     "output_type": "stream",
     "text": [
      "2023-03-23 10:56:02.637     INFO:          stages: Running banzai.stages.FlatSNRChecker | {\"filename\": \"ccd1083-20220925-f00.fits.fz\", \"site\": \"LCO\", \"instrument\": \"Direct/4Kx4K-4\", \"epoch\": \"20220925\", \"request_num\": null, \"obstype\": \"FLAT\", \"filter\": \"r\", \"processName\": \"MainProcess\"}\n"
     ]
    },
    {
     "name": "stderr",
     "output_type": "stream",
     "text": [
      "INFO:banzai:Running banzai.stages.FlatSNRChecker | {\"filename\": \"ccd1083-20220925-f00.fits.fz\", \"site\": \"LCO\", \"instrument\": \"Direct/4Kx4K-4\", \"epoch\": \"20220925\", \"request_num\": null, \"obstype\": \"FLAT\", \"filter\": \"r\", \"processName\": \"MainProcess\"}\n"
     ]
    },
    {
     "name": "stdout",
     "output_type": "stream",
     "text": [
      "2023-03-23 10:56:03.013     INFO:           flats: Flat signal-to-noise | {\"filename\": \"ccd1083-20220925-f00.fits.fz\", \"site\": \"LCO\", \"instrument\": \"Direct/4Kx4K-4\", \"epoch\": \"20220925\", \"request_num\": null, \"obstype\": \"FLAT\", \"filter\": \"r\", \"flat_snr\": 1351.3102520035513, \"processName\": \"MainProcess\"}\n"
     ]
    },
    {
     "name": "stderr",
     "output_type": "stream",
     "text": [
      "INFO:banzai:Flat signal-to-noise | {\"filename\": \"ccd1083-20220925-f00.fits.fz\", \"site\": \"LCO\", \"instrument\": \"Direct/4Kx4K-4\", \"epoch\": \"20220925\", \"request_num\": null, \"obstype\": \"FLAT\", \"filter\": \"r\", \"flat_snr\": 1351.3102520035513, \"processName\": \"MainProcess\"}\n"
     ]
    },
    {
     "name": "stdout",
     "output_type": "stream",
     "text": [
      "2023-03-23 10:56:03.015     INFO:          stages: Running banzai.stages.FlatNormalizer | {\"filename\": \"ccd1083-20220925-f00.fits.fz\", \"site\": \"LCO\", \"instrument\": \"Direct/4Kx4K-4\", \"epoch\": \"20220925\", \"request_num\": null, \"obstype\": \"FLAT\", \"filter\": \"r\", \"processName\": \"MainProcess\"}\n"
     ]
    },
    {
     "name": "stderr",
     "output_type": "stream",
     "text": [
      "INFO:banzai:Running banzai.stages.FlatNormalizer | {\"filename\": \"ccd1083-20220925-f00.fits.fz\", \"site\": \"LCO\", \"instrument\": \"Direct/4Kx4K-4\", \"epoch\": \"20220925\", \"request_num\": null, \"obstype\": \"FLAT\", \"filter\": \"r\", \"processName\": \"MainProcess\"}\n"
     ]
    },
    {
     "name": "stdout",
     "output_type": "stream",
     "text": [
      "2023-03-23 10:56:03.291     INFO:           flats: Calculate flat normalization | {\"filename\": \"ccd1083-20220925-f00.fits.fz\", \"site\": \"LCO\", \"instrument\": \"Direct/4Kx4K-4\", \"epoch\": \"20220925\", \"request_num\": null, \"obstype\": \"FLAT\", \"filter\": \"r\", \"flat_normalization\": 6189.428563655968, \"processName\": \"MainProcess\"}\n"
     ]
    },
    {
     "name": "stderr",
     "output_type": "stream",
     "text": [
      "INFO:banzai:Calculate flat normalization | {\"filename\": \"ccd1083-20220925-f00.fits.fz\", \"site\": \"LCO\", \"instrument\": \"Direct/4Kx4K-4\", \"epoch\": \"20220925\", \"request_num\": null, \"obstype\": \"FLAT\", \"filter\": \"r\", \"flat_normalization\": 6189.428563655968, \"processName\": \"MainProcess\"}\n"
     ]
    },
    {
     "name": "stdout",
     "output_type": "stream",
     "text": [
      "2023-03-23 10:56:03.457     INFO:          stages: Running banzai.stages.PatternNoiseDetector | {\"filename\": \"ccd1083-20220925-f00.fits.fz\", \"site\": \"LCO\", \"instrument\": \"Direct/4Kx4K-4\", \"epoch\": \"20220925\", \"request_num\": null, \"obstype\": \"FLAT\", \"filter\": \"r\", \"processName\": \"MainProcess\"}\n"
     ]
    },
    {
     "name": "stderr",
     "output_type": "stream",
     "text": [
      "INFO:banzai:Running banzai.stages.PatternNoiseDetector | {\"filename\": \"ccd1083-20220925-f00.fits.fz\", \"site\": \"LCO\", \"instrument\": \"Direct/4Kx4K-4\", \"epoch\": \"20220925\", \"request_num\": null, \"obstype\": \"FLAT\", \"filter\": \"r\", \"processName\": \"MainProcess\"}\n"
     ]
    },
    {
     "name": "stdout",
     "output_type": "stream",
     "text": [
      "2023-03-23 10:56:04.581     INFO:   pattern_noise: No pattern noise found. | {\"filename\": \"ccd1083-20220925-f00.fits.fz\", \"site\": \"LCO\", \"instrument\": \"Direct/4Kx4K-4\", \"epoch\": \"20220925\", \"request_num\": null, \"obstype\": \"FLAT\", \"filter\": \"r\", \"snr_threshold\": 10.0, \"min_fraction_pixels_above_threshold\": 0.01, \"min_adjacent_pixels\": 3, \"fraction_pixels_above_threshold\": 0.0, \"processName\": \"MainProcess\"}\n"
     ]
    },
    {
     "name": "stderr",
     "output_type": "stream",
     "text": [
      "INFO:banzai:No pattern noise found. | {\"filename\": \"ccd1083-20220925-f00.fits.fz\", \"site\": \"LCO\", \"instrument\": \"Direct/4Kx4K-4\", \"epoch\": \"20220925\", \"request_num\": null, \"obstype\": \"FLAT\", \"filter\": \"r\", \"snr_threshold\": 10.0, \"min_fraction_pixels_above_threshold\": 0.01, \"min_adjacent_pixels\": 3, \"fraction_pixels_above_threshold\": 0.0, \"processName\": \"MainProcess\"}\n"
     ]
    },
    {
     "name": "stdout",
     "output_type": "stream",
     "text": [
      "2023-03-23 10:56:04.583     INFO:          stages: Running banzai.stages.FlatComparer | {\"filename\": \"ccd1083-20220925-f00.fits.fz\", \"site\": \"LCO\", \"instrument\": \"Direct/4Kx4K-4\", \"epoch\": \"20220925\", \"request_num\": null, \"obstype\": \"FLAT\", \"filter\": \"r\", \"processName\": \"MainProcess\"}\n"
     ]
    },
    {
     "name": "stderr",
     "output_type": "stream",
     "text": [
      "INFO:banzai:Running banzai.stages.FlatComparer | {\"filename\": \"ccd1083-20220925-f00.fits.fz\", \"site\": \"LCO\", \"instrument\": \"Direct/4Kx4K-4\", \"epoch\": \"20220925\", \"request_num\": null, \"obstype\": \"FLAT\", \"filter\": \"r\", \"processName\": \"MainProcess\"}\n"
     ]
    },
    {
     "name": "stdout",
     "output_type": "stream",
     "text": [
      "2023-03-23 10:56:04.593    ERROR:    calibrations: No master FLAT to compare to, Flagging image as bad. | {\"filename\": \"ccd1083-20220925-f00.fits.fz\", \"site\": \"LCO\", \"instrument\": \"Direct/4Kx4K-4\", \"epoch\": \"20220925\", \"request_num\": null, \"obstype\": \"FLAT\", \"filter\": \"r\", \"processName\": \"MainProcess\"}\n"
     ]
    },
    {
     "name": "stderr",
     "output_type": "stream",
     "text": [
      "ERROR:banzai:No master FLAT to compare to, Flagging image as bad. | {\"filename\": \"ccd1083-20220925-f00.fits.fz\", \"site\": \"LCO\", \"instrument\": \"Direct/4Kx4K-4\", \"epoch\": \"20220925\", \"request_num\": null, \"obstype\": \"FLAT\", \"filter\": \"r\", \"processName\": \"MainProcess\"}\n"
     ]
    }
   ],
   "source": [
    "flat_files = glob(os.path.join(mef_combined_data_dir, '*f00*'))\n",
    "for flat_file in flat_files:\n",
    "    run_pipeline_stages([{'path': flat_file}], context)"
   ]
  },
  {
   "cell_type": "code",
   "execution_count": 12,
   "metadata": {},
   "outputs": [],
   "source": [
    "mark_frames_as_good('*f91*')"
   ]
  },
  {
   "cell_type": "code",
   "execution_count": 13,
   "metadata": {},
   "outputs": [
    {
     "name": "stdout",
     "output_type": "stream",
     "text": [
      "2023-03-23 10:56:08.488     INFO:    calibrations: Making master frames | {\"type\": \"swope-imager\", \"site\": \"LCO\", \"camera\": \"Direct/4Kx4K-4\", \"obstype\": \"Flat\", \"min_date\": \"2022-09-20\", \"max_date\": \"2022-09-30\", \"processName\": \"MainProcess\"}\n"
     ]
    },
    {
     "name": "stderr",
     "output_type": "stream",
     "text": [
      "INFO:banzai:Making master frames | {\"type\": \"swope-imager\", \"site\": \"LCO\", \"camera\": \"Direct/4Kx4K-4\", \"obstype\": \"Flat\", \"min_date\": \"2022-09-20\", \"max_date\": \"2022-09-30\", \"processName\": \"MainProcess\"}\n"
     ]
    },
    {
     "name": "stdout",
     "output_type": "stream",
     "text": [
      "2023-03-23 10:56:09.192     INFO:          stages: Running banzai.stages.FlatMaker | {\"filename\": \"ccd1083-20220925-f91.fits.fz\", \"site\": \"LCO\", \"instrument\": \"Direct/4Kx4K-4\", \"epoch\": \"20220925\", \"request_num\": null, \"obstype\": \"FLAT\", \"filter\": \"r\", \"processName\": \"MainProcess\"}\n"
     ]
    },
    {
     "name": "stderr",
     "output_type": "stream",
     "text": [
      "INFO:banzai:Running banzai.stages.FlatMaker | {\"filename\": \"ccd1083-20220925-f91.fits.fz\", \"site\": \"LCO\", \"instrument\": \"Direct/4Kx4K-4\", \"epoch\": \"20220925\", \"request_num\": null, \"obstype\": \"FLAT\", \"filter\": \"r\", \"processName\": \"MainProcess\"}\n"
     ]
    },
    {
     "name": "stdout",
     "output_type": "stream",
     "text": [
      "2023-03-23 10:56:11.334     INFO:    calibrations: Created master calibration stack | {\"filename\": \"4Kx4K-4-20220925-flat-bin1x1-r.fits\", \"site\": \"LCO\", \"instrument\": \"Direct/4Kx4K-4\", \"epoch\": \"20220925\", \"request_num\": null, \"obstype\": \"FLAT\", \"filter\": \"r\", \"calibration_type\": \"FLAT\", \"processName\": \"MainProcess\"}\n"
     ]
    },
    {
     "name": "stderr",
     "output_type": "stream",
     "text": [
      "INFO:banzai:Created master calibration stack | {\"filename\": \"4Kx4K-4-20220925-flat-bin1x1-r.fits\", \"site\": \"LCO\", \"instrument\": \"Direct/4Kx4K-4\", \"epoch\": \"20220925\", \"request_num\": null, \"obstype\": \"FLAT\", \"filter\": \"r\", \"calibration_type\": \"FLAT\", \"processName\": \"MainProcess\"}\n"
     ]
    },
    {
     "name": "stdout",
     "output_type": "stream",
     "text": [
      "2023-03-23 10:56:15.363     INFO:    calibrations: Finished | {\"processName\": \"MainProcess\"}\n"
     ]
    },
    {
     "name": "stderr",
     "output_type": "stream",
     "text": [
      "INFO:banzai:Finished | {\"processName\": \"MainProcess\"}\n"
     ]
    }
   ],
   "source": [
    "make_master_calibrations(instrument, 'Flat', '2022-09-20', '2022-09-30', context)"
   ]
  },
  {
   "cell_type": "code",
   "execution_count": 14,
   "metadata": {},
   "outputs": [
    {
     "name": "stdout",
     "output_type": "stream",
     "text": [
      "2023-03-23 10:56:16.390     INFO:          stages: Running banzai.stages.BadPixelMaskLoader | {\"filename\": \"ccd1088-20220925-e00.fits.fz\", \"site\": \"LCO\", \"instrument\": \"Direct/4Kx4K-4\", \"epoch\": \"20220925\", \"request_num\": null, \"obstype\": \"OBJECT\", \"filter\": \"r\", \"processName\": \"MainProcess\"}\n"
     ]
    },
    {
     "name": "stderr",
     "output_type": "stream",
     "text": [
      "INFO:banzai:Running banzai.stages.BadPixelMaskLoader | {\"filename\": \"ccd1088-20220925-e00.fits.fz\", \"site\": \"LCO\", \"instrument\": \"Direct/4Kx4K-4\", \"epoch\": \"20220925\", \"request_num\": null, \"obstype\": \"OBJECT\", \"filter\": \"r\", \"processName\": \"MainProcess\"}\n"
     ]
    },
    {
     "name": "stdout",
     "output_type": "stream",
     "text": [
      "2023-03-23 10:56:16.401    ERROR:             bpm: Master BPM does not exist | {\"filename\": \"ccd1088-20220925-e00.fits.fz\", \"site\": \"LCO\", \"instrument\": \"Direct/4Kx4K-4\", \"epoch\": \"20220925\", \"request_num\": null, \"obstype\": \"OBJECT\", \"filter\": \"r\", \"processName\": \"MainProcess\"}\n"
     ]
    },
    {
     "name": "stderr",
     "output_type": "stream",
     "text": [
      "ERROR:banzai:Master BPM does not exist | {\"filename\": \"ccd1088-20220925-e00.fits.fz\", \"site\": \"LCO\", \"instrument\": \"Direct/4Kx4K-4\", \"epoch\": \"20220925\", \"request_num\": null, \"obstype\": \"OBJECT\", \"filter\": \"r\", \"processName\": \"MainProcess\"}\n"
     ]
    },
    {
     "name": "stdout",
     "output_type": "stream",
     "text": [
      "2023-03-23 10:56:16.570     INFO:          stages: Running banzai.stages.OverscanSubtractor | {\"filename\": \"ccd1088-20220925-e00.fits.fz\", \"site\": \"LCO\", \"instrument\": \"Direct/4Kx4K-4\", \"epoch\": \"20220925\", \"request_num\": null, \"obstype\": \"OBJECT\", \"filter\": \"r\", \"processName\": \"MainProcess\"}\n"
     ]
    },
    {
     "name": "stderr",
     "output_type": "stream",
     "text": [
      "INFO:banzai:Running banzai.stages.OverscanSubtractor | {\"filename\": \"ccd1088-20220925-e00.fits.fz\", \"site\": \"LCO\", \"instrument\": \"Direct/4Kx4K-4\", \"epoch\": \"20220925\", \"request_num\": null, \"obstype\": \"OBJECT\", \"filter\": \"r\", \"processName\": \"MainProcess\"}\n"
     ]
    },
    {
     "name": "stdout",
     "output_type": "stream",
     "text": [
      "2023-03-23 10:56:16.658     INFO:          stages: Running banzai.stages.GainNormalizer | {\"filename\": \"ccd1088-20220925-e00.fits.fz\", \"site\": \"LCO\", \"instrument\": \"Direct/4Kx4K-4\", \"epoch\": \"20220925\", \"request_num\": null, \"obstype\": \"OBJECT\", \"filter\": \"r\", \"processName\": \"MainProcess\"}\n"
     ]
    },
    {
     "name": "stderr",
     "output_type": "stream",
     "text": [
      "INFO:banzai:Running banzai.stages.GainNormalizer | {\"filename\": \"ccd1088-20220925-e00.fits.fz\", \"site\": \"LCO\", \"instrument\": \"Direct/4Kx4K-4\", \"epoch\": \"20220925\", \"request_num\": null, \"obstype\": \"OBJECT\", \"filter\": \"r\", \"processName\": \"MainProcess\"}\n"
     ]
    },
    {
     "name": "stdout",
     "output_type": "stream",
     "text": [
      "2023-03-23 10:56:16.660     INFO:            gain: Multiplying by gain | {\"filename\": \"ccd1088-20220925-e00.fits.fz\", \"site\": \"LCO\", \"instrument\": \"Direct/4Kx4K-4\", \"epoch\": \"20220925\", \"request_num\": null, \"obstype\": \"OBJECT\", \"filter\": \"r\", \"processName\": \"MainProcess\"}\n"
     ]
    },
    {
     "name": "stderr",
     "output_type": "stream",
     "text": [
      "INFO:banzai:Multiplying by gain | {\"filename\": \"ccd1088-20220925-e00.fits.fz\", \"site\": \"LCO\", \"instrument\": \"Direct/4Kx4K-4\", \"epoch\": \"20220925\", \"request_num\": null, \"obstype\": \"OBJECT\", \"filter\": \"r\", \"processName\": \"MainProcess\"}\n"
     ]
    },
    {
     "name": "stdout",
     "output_type": "stream",
     "text": [
      "2023-03-23 10:56:16.712     INFO:          stages: Running banzai.stages.MosaicCreator | {\"filename\": \"ccd1088-20220925-e00.fits.fz\", \"site\": \"LCO\", \"instrument\": \"Direct/4Kx4K-4\", \"epoch\": \"20220925\", \"request_num\": null, \"obstype\": \"OBJECT\", \"filter\": \"r\", \"processName\": \"MainProcess\"}\n"
     ]
    },
    {
     "name": "stderr",
     "output_type": "stream",
     "text": [
      "INFO:banzai:Running banzai.stages.MosaicCreator | {\"filename\": \"ccd1088-20220925-e00.fits.fz\", \"site\": \"LCO\", \"instrument\": \"Direct/4Kx4K-4\", \"epoch\": \"20220925\", \"request_num\": null, \"obstype\": \"OBJECT\", \"filter\": \"r\", \"processName\": \"MainProcess\"}\n"
     ]
    },
    {
     "name": "stdout",
     "output_type": "stream",
     "text": [
      "2023-03-23 10:56:16.714     INFO:          mosaic: Mosaicing image | {\"filename\": \"ccd1088-20220925-e00.fits.fz\", \"site\": \"LCO\", \"instrument\": \"Direct/4Kx4K-4\", \"epoch\": \"20220925\", \"request_num\": null, \"obstype\": \"OBJECT\", \"filter\": \"r\", \"processName\": \"MainProcess\"}\n"
     ]
    },
    {
     "name": "stderr",
     "output_type": "stream",
     "text": [
      "INFO:banzai:Mosaicing image | {\"filename\": \"ccd1088-20220925-e00.fits.fz\", \"site\": \"LCO\", \"instrument\": \"Direct/4Kx4K-4\", \"epoch\": \"20220925\", \"request_num\": null, \"obstype\": \"OBJECT\", \"filter\": \"r\", \"processName\": \"MainProcess\"}\n"
     ]
    },
    {
     "name": "stdout",
     "output_type": "stream",
     "text": [
      "2023-03-23 10:56:18.124     INFO:          stages: Running banzai.stages.Trimmer | {\"filename\": \"ccd1088-20220925-e00.fits.fz\", \"site\": \"LCO\", \"instrument\": \"Direct/4Kx4K-4\", \"epoch\": \"20220925\", \"request_num\": null, \"obstype\": \"OBJECT\", \"filter\": \"r\", \"processName\": \"MainProcess\"}\n"
     ]
    },
    {
     "name": "stderr",
     "output_type": "stream",
     "text": [
      "INFO:banzai:Running banzai.stages.Trimmer | {\"filename\": \"ccd1088-20220925-e00.fits.fz\", \"site\": \"LCO\", \"instrument\": \"Direct/4Kx4K-4\", \"epoch\": \"20220925\", \"request_num\": null, \"obstype\": \"OBJECT\", \"filter\": \"r\", \"processName\": \"MainProcess\"}\n"
     ]
    },
    {
     "name": "stdout",
     "output_type": "stream",
     "text": [
      "2023-03-23 10:56:18.125     INFO:            trim: Trimming image | {\"filename\": \"ccd1088-20220925-e00.fits.fz\", \"site\": \"LCO\", \"instrument\": \"Direct/4Kx4K-4\", \"epoch\": \"20220925\", \"request_num\": null, \"obstype\": \"OBJECT\", \"filter\": \"r\", \"processName\": \"MainProcess\"}\n"
     ]
    },
    {
     "name": "stderr",
     "output_type": "stream",
     "text": [
      "INFO:banzai:Trimming image | {\"filename\": \"ccd1088-20220925-e00.fits.fz\", \"site\": \"LCO\", \"instrument\": \"Direct/4Kx4K-4\", \"epoch\": \"20220925\", \"request_num\": null, \"obstype\": \"OBJECT\", \"filter\": \"r\", \"processName\": \"MainProcess\"}\n"
     ]
    },
    {
     "name": "stdout",
     "output_type": "stream",
     "text": [
      "2023-03-23 10:56:18.555     INFO:          stages: Running banzai.stages.BiasSubtractor | {\"filename\": \"ccd1088-20220925-e00.fits.fz\", \"site\": \"LCO\", \"instrument\": \"Direct/4Kx4K-4\", \"epoch\": \"20220925\", \"request_num\": null, \"obstype\": \"OBJECT\", \"filter\": \"r\", \"processName\": \"MainProcess\"}\n"
     ]
    },
    {
     "name": "stderr",
     "output_type": "stream",
     "text": [
      "INFO:banzai:Running banzai.stages.BiasSubtractor | {\"filename\": \"ccd1088-20220925-e00.fits.fz\", \"site\": \"LCO\", \"instrument\": \"Direct/4Kx4K-4\", \"epoch\": \"20220925\", \"request_num\": null, \"obstype\": \"OBJECT\", \"filter\": \"r\", \"processName\": \"MainProcess\"}\n"
     ]
    },
    {
     "name": "stdout",
     "output_type": "stream",
     "text": [
      "2023-03-23 10:56:19.239     INFO:    calibrations: Applying master calibration | {\"filename\": \"ccd1088-20220925-e00.fits.fz\", \"site\": \"LCO\", \"instrument\": \"Direct/4Kx4K-4\", \"epoch\": \"20220925\", \"request_num\": null, \"obstype\": \"OBJECT\", \"filter\": \"r\", \"master_calibration\": \"4Kx4K-4-20220925-bias-bin1x1.fits.fz\", \"processName\": \"MainProcess\"}\n"
     ]
    },
    {
     "name": "stderr",
     "output_type": "stream",
     "text": [
      "INFO:banzai:Applying master calibration | {\"filename\": \"ccd1088-20220925-e00.fits.fz\", \"site\": \"LCO\", \"instrument\": \"Direct/4Kx4K-4\", \"epoch\": \"20220925\", \"request_num\": null, \"obstype\": \"OBJECT\", \"filter\": \"r\", \"master_calibration\": \"4Kx4K-4-20220925-bias-bin1x1.fits.fz\", \"processName\": \"MainProcess\"}\n"
     ]
    },
    {
     "name": "stdout",
     "output_type": "stream",
     "text": [
      "2023-03-23 10:56:19.612     INFO:          stages: Running banzai.stages.PoissonInitializer | {\"filename\": \"ccd1088-20220925-e00.fits.fz\", \"site\": \"LCO\", \"instrument\": \"Direct/4Kx4K-4\", \"epoch\": \"20220925\", \"request_num\": null, \"obstype\": \"OBJECT\", \"filter\": \"r\", \"processName\": \"MainProcess\"}\n"
     ]
    },
    {
     "name": "stderr",
     "output_type": "stream",
     "text": [
      "INFO:banzai:Running banzai.stages.PoissonInitializer | {\"filename\": \"ccd1088-20220925-e00.fits.fz\", \"site\": \"LCO\", \"instrument\": \"Direct/4Kx4K-4\", \"epoch\": \"20220925\", \"request_num\": null, \"obstype\": \"OBJECT\", \"filter\": \"r\", \"processName\": \"MainProcess\"}\n"
     ]
    },
    {
     "name": "stdout",
     "output_type": "stream",
     "text": [
      "2023-03-23 10:56:19.802     INFO:          stages: Running banzai.stages.FlatDivider | {\"filename\": \"ccd1088-20220925-e00.fits.fz\", \"site\": \"LCO\", \"instrument\": \"Direct/4Kx4K-4\", \"epoch\": \"20220925\", \"request_num\": null, \"obstype\": \"OBJECT\", \"filter\": \"r\", \"processName\": \"MainProcess\"}\n"
     ]
    },
    {
     "name": "stderr",
     "output_type": "stream",
     "text": [
      "INFO:banzai:Running banzai.stages.FlatDivider | {\"filename\": \"ccd1088-20220925-e00.fits.fz\", \"site\": \"LCO\", \"instrument\": \"Direct/4Kx4K-4\", \"epoch\": \"20220925\", \"request_num\": null, \"obstype\": \"OBJECT\", \"filter\": \"r\", \"processName\": \"MainProcess\"}\n"
     ]
    },
    {
     "name": "stdout",
     "output_type": "stream",
     "text": [
      "2023-03-23 10:56:20.494     INFO:    calibrations: Applying master calibration | {\"filename\": \"ccd1088-20220925-e00.fits.fz\", \"site\": \"LCO\", \"instrument\": \"Direct/4Kx4K-4\", \"epoch\": \"20220925\", \"request_num\": null, \"obstype\": \"OBJECT\", \"filter\": \"r\", \"master_calibration\": \"4Kx4K-4-20220925-flat-bin1x1-r.fits.fz\", \"processName\": \"MainProcess\"}\n"
     ]
    },
    {
     "name": "stderr",
     "output_type": "stream",
     "text": [
      "INFO:banzai:Applying master calibration | {\"filename\": \"ccd1088-20220925-e00.fits.fz\", \"site\": \"LCO\", \"instrument\": \"Direct/4Kx4K-4\", \"epoch\": \"20220925\", \"request_num\": null, \"obstype\": \"OBJECT\", \"filter\": \"r\", \"master_calibration\": \"4Kx4K-4-20220925-flat-bin1x1-r.fits.fz\", \"processName\": \"MainProcess\"}\n"
     ]
    },
    {
     "name": "stdout",
     "output_type": "stream",
     "text": [
      "2023-03-23 10:56:20.496     INFO:           flats: Flattening image | {\"filename\": \"ccd1088-20220925-e00.fits.fz\", \"site\": \"LCO\", \"instrument\": \"Direct/4Kx4K-4\", \"epoch\": \"20220925\", \"request_num\": null, \"obstype\": \"OBJECT\", \"filter\": \"r\", \"master_flat\": \"4Kx4K-4-20220925-flat-bin1x1-r.fits.fz\", \"processName\": \"MainProcess\"}\n"
     ]
    },
    {
     "name": "stderr",
     "output_type": "stream",
     "text": [
      "INFO:banzai:Flattening image | {\"filename\": \"ccd1088-20220925-e00.fits.fz\", \"site\": \"LCO\", \"instrument\": \"Direct/4Kx4K-4\", \"epoch\": \"20220925\", \"request_num\": null, \"obstype\": \"OBJECT\", \"filter\": \"r\", \"master_flat\": \"4Kx4K-4-20220925-flat-bin1x1-r.fits.fz\", \"processName\": \"MainProcess\"}\n"
     ]
    },
    {
     "name": "stdout",
     "output_type": "stream",
     "text": [
      "2023-03-23 10:56:23.482     INFO:          stages: Running banzai.stages.CosmicRayDetector | {\"filename\": \"ccd1088-20220925-e00.fits.fz\", \"site\": \"LCO\", \"instrument\": \"Direct/4Kx4K-4\", \"epoch\": \"20220925\", \"request_num\": null, \"obstype\": \"OBJECT\", \"filter\": \"r\", \"processName\": \"MainProcess\"}\n"
     ]
    },
    {
     "name": "stderr",
     "output_type": "stream",
     "text": [
      "INFO:banzai:Running banzai.stages.CosmicRayDetector | {\"filename\": \"ccd1088-20220925-e00.fits.fz\", \"site\": \"LCO\", \"instrument\": \"Direct/4Kx4K-4\", \"epoch\": \"20220925\", \"request_num\": null, \"obstype\": \"OBJECT\", \"filter\": \"r\", \"processName\": \"MainProcess\"}\n"
     ]
    },
    {
     "name": "stdout",
     "output_type": "stream",
     "text": [
      "2023-03-23 10:57:37.057     INFO:          stages: Running banzai.stages.SourceDetector | {\"filename\": \"ccd1088-20220925-e00.fits.fz\", \"site\": \"LCO\", \"instrument\": \"Direct/4Kx4K-4\", \"epoch\": \"20220925\", \"request_num\": null, \"obstype\": \"OBJECT\", \"filter\": \"r\", \"processName\": \"MainProcess\"}\n"
     ]
    },
    {
     "name": "stderr",
     "output_type": "stream",
     "text": [
      "INFO:banzai:Running banzai.stages.SourceDetector | {\"filename\": \"ccd1088-20220925-e00.fits.fz\", \"site\": \"LCO\", \"instrument\": \"Direct/4Kx4K-4\", \"epoch\": \"20220925\", \"request_num\": null, \"obstype\": \"OBJECT\", \"filter\": \"r\", \"processName\": \"MainProcess\"}\n"
     ]
    },
    {
     "name": "stdout",
     "output_type": "stream",
     "text": [
      "2023-03-23 10:57:40.596     INFO:      photometry: Extracted sources | {\"filename\": \"ccd1088-20220925-e00.fits.fz\", \"site\": \"LCO\", \"instrument\": \"Direct/4Kx4K-4\", \"epoch\": \"20220925\", \"request_num\": null, \"obstype\": \"OBJECT\", \"filter\": \"r\", \"L1MEAN\": 20.579769945183227, \"L1MEDIAN\": 20.65488052368164, \"L1SIGMA\": 0.528839094543457, \"L1FWHM\": 2.0226812468391406, \"L1ELLIP\": 0.10217009657539586, \"L1ELLIPA\": -4.12829282533009, \"processName\": \"MainProcess\"}\n"
     ]
    },
    {
     "name": "stderr",
     "output_type": "stream",
     "text": [
      "INFO:banzai:Extracted sources | {\"filename\": \"ccd1088-20220925-e00.fits.fz\", \"site\": \"LCO\", \"instrument\": \"Direct/4Kx4K-4\", \"epoch\": \"20220925\", \"request_num\": null, \"obstype\": \"OBJECT\", \"filter\": \"r\", \"L1MEAN\": 20.579769945183227, \"L1MEDIAN\": 20.65488052368164, \"L1SIGMA\": 0.528839094543457, \"L1FWHM\": 2.0226812468391406, \"L1ELLIP\": 0.10217009657539586, \"L1ELLIPA\": -4.12829282533009, \"processName\": \"MainProcess\"}\n"
     ]
    },
    {
     "name": "stdout",
     "output_type": "stream",
     "text": [
      "2023-03-23 10:57:40.611     INFO:          stages: Running banzai.stages.WCSSolver | {\"filename\": \"ccd1088-20220925-e00.fits.fz\", \"site\": \"LCO\", \"instrument\": \"Direct/4Kx4K-4\", \"epoch\": \"20220925\", \"request_num\": null, \"obstype\": \"OBJECT\", \"filter\": \"r\", \"processName\": \"MainProcess\"}\n"
     ]
    },
    {
     "name": "stderr",
     "output_type": "stream",
     "text": [
      "INFO:banzai:Running banzai.stages.WCSSolver | {\"filename\": \"ccd1088-20220925-e00.fits.fz\", \"site\": \"LCO\", \"instrument\": \"Direct/4Kx4K-4\", \"epoch\": \"20220925\", \"request_num\": null, \"obstype\": \"OBJECT\", \"filter\": \"r\", \"processName\": \"MainProcess\"}\n",
      "WARNING:py.warnings:/Users/mdaily/Documents/banzai/venv/lib/python3.8/site-packages/astropy/wcs/wcs.py:594: FITSFixedWarning: The WCS transformation has more axes (2) than the image it is associated with (0)\n",
      "  warnings.warn(\n",
      "\n",
      "WARNING:py.warnings:/Users/mdaily/Documents/banzai/venv/lib/python3.8/site-packages/astropy/wcs/wcs.py:803: FITSFixedWarning: 'datfix' made the change 'Set MJD-OBS to 59847.136713 from DATE-OBS'.\n",
      "  warnings.warn(\n",
      "\n"
     ]
    },
    {
     "name": "stdout",
     "output_type": "stream",
     "text": [
      "2023-03-23 10:57:42.245     INFO:      astrometry: Attempted WCS Solve | {\"filename\": \"ccd1088-20220925-e00.fits.fz\", \"site\": \"LCO\", \"instrument\": \"Direct/4Kx4K-4\", \"epoch\": \"20220925\", \"request_num\": null, \"obstype\": \"OBJECT\", \"filter\": \"r\", \"WCSERR\": 0, \"processName\": \"MainProcess\"}\n"
     ]
    },
    {
     "name": "stderr",
     "output_type": "stream",
     "text": [
      "INFO:banzai:Attempted WCS Solve | {\"filename\": \"ccd1088-20220925-e00.fits.fz\", \"site\": \"LCO\", \"instrument\": \"Direct/4Kx4K-4\", \"epoch\": \"20220925\", \"request_num\": null, \"obstype\": \"OBJECT\", \"filter\": \"r\", \"WCSERR\": 0, \"processName\": \"MainProcess\"}\n"
     ]
    },
    {
     "name": "stdout",
     "output_type": "stream",
     "text": [
      "2023-03-23 10:57:42.246     INFO:          stages: Running banzai.stages.PhotometricCalibrator | {\"filename\": \"ccd1088-20220925-e00.fits.fz\", \"site\": \"LCO\", \"instrument\": \"Direct/4Kx4K-4\", \"epoch\": \"20220925\", \"request_num\": null, \"obstype\": \"OBJECT\", \"filter\": \"r\", \"processName\": \"MainProcess\"}\n"
     ]
    },
    {
     "name": "stderr",
     "output_type": "stream",
     "text": [
      "INFO:banzai:Running banzai.stages.PhotometricCalibrator | {\"filename\": \"ccd1088-20220925-e00.fits.fz\", \"site\": \"LCO\", \"instrument\": \"Direct/4Kx4K-4\", \"epoch\": \"20220925\", \"request_num\": null, \"obstype\": \"OBJECT\", \"filter\": \"r\", \"processName\": \"MainProcess\"}\n"
     ]
    },
    {
     "name": "stdout",
     "output_type": "stream",
     "text": [
      "2023-03-23 10:57:46.963     INFO:          stages: Running banzai.stages.BadPixelMaskLoader | {\"filename\": \"ccd1144-20220925-e00.fits.fz\", \"site\": \"LCO\", \"instrument\": \"Direct/4Kx4K-4\", \"epoch\": \"20220925\", \"request_num\": null, \"obstype\": \"OBJECT\", \"filter\": \"r\", \"processName\": \"MainProcess\"}\n"
     ]
    },
    {
     "name": "stderr",
     "output_type": "stream",
     "text": [
      "INFO:banzai:Running banzai.stages.BadPixelMaskLoader | {\"filename\": \"ccd1144-20220925-e00.fits.fz\", \"site\": \"LCO\", \"instrument\": \"Direct/4Kx4K-4\", \"epoch\": \"20220925\", \"request_num\": null, \"obstype\": \"OBJECT\", \"filter\": \"r\", \"processName\": \"MainProcess\"}\n"
     ]
    },
    {
     "name": "stdout",
     "output_type": "stream",
     "text": [
      "2023-03-23 10:57:46.974    ERROR:             bpm: Master BPM does not exist | {\"filename\": \"ccd1144-20220925-e00.fits.fz\", \"site\": \"LCO\", \"instrument\": \"Direct/4Kx4K-4\", \"epoch\": \"20220925\", \"request_num\": null, \"obstype\": \"OBJECT\", \"filter\": \"r\", \"processName\": \"MainProcess\"}\n"
     ]
    },
    {
     "name": "stderr",
     "output_type": "stream",
     "text": [
      "ERROR:banzai:Master BPM does not exist | {\"filename\": \"ccd1144-20220925-e00.fits.fz\", \"site\": \"LCO\", \"instrument\": \"Direct/4Kx4K-4\", \"epoch\": \"20220925\", \"request_num\": null, \"obstype\": \"OBJECT\", \"filter\": \"r\", \"processName\": \"MainProcess\"}\n"
     ]
    },
    {
     "name": "stdout",
     "output_type": "stream",
     "text": [
      "2023-03-23 10:57:47.172     INFO:          stages: Running banzai.stages.OverscanSubtractor | {\"filename\": \"ccd1144-20220925-e00.fits.fz\", \"site\": \"LCO\", \"instrument\": \"Direct/4Kx4K-4\", \"epoch\": \"20220925\", \"request_num\": null, \"obstype\": \"OBJECT\", \"filter\": \"r\", \"processName\": \"MainProcess\"}\n"
     ]
    },
    {
     "name": "stderr",
     "output_type": "stream",
     "text": [
      "INFO:banzai:Running banzai.stages.OverscanSubtractor | {\"filename\": \"ccd1144-20220925-e00.fits.fz\", \"site\": \"LCO\", \"instrument\": \"Direct/4Kx4K-4\", \"epoch\": \"20220925\", \"request_num\": null, \"obstype\": \"OBJECT\", \"filter\": \"r\", \"processName\": \"MainProcess\"}\n"
     ]
    },
    {
     "name": "stdout",
     "output_type": "stream",
     "text": [
      "2023-03-23 10:57:47.278     INFO:          stages: Running banzai.stages.GainNormalizer | {\"filename\": \"ccd1144-20220925-e00.fits.fz\", \"site\": \"LCO\", \"instrument\": \"Direct/4Kx4K-4\", \"epoch\": \"20220925\", \"request_num\": null, \"obstype\": \"OBJECT\", \"filter\": \"r\", \"processName\": \"MainProcess\"}\n"
     ]
    },
    {
     "name": "stderr",
     "output_type": "stream",
     "text": [
      "INFO:banzai:Running banzai.stages.GainNormalizer | {\"filename\": \"ccd1144-20220925-e00.fits.fz\", \"site\": \"LCO\", \"instrument\": \"Direct/4Kx4K-4\", \"epoch\": \"20220925\", \"request_num\": null, \"obstype\": \"OBJECT\", \"filter\": \"r\", \"processName\": \"MainProcess\"}\n"
     ]
    },
    {
     "name": "stdout",
     "output_type": "stream",
     "text": [
      "2023-03-23 10:57:47.280     INFO:            gain: Multiplying by gain | {\"filename\": \"ccd1144-20220925-e00.fits.fz\", \"site\": \"LCO\", \"instrument\": \"Direct/4Kx4K-4\", \"epoch\": \"20220925\", \"request_num\": null, \"obstype\": \"OBJECT\", \"filter\": \"r\", \"processName\": \"MainProcess\"}\n"
     ]
    },
    {
     "name": "stderr",
     "output_type": "stream",
     "text": [
      "INFO:banzai:Multiplying by gain | {\"filename\": \"ccd1144-20220925-e00.fits.fz\", \"site\": \"LCO\", \"instrument\": \"Direct/4Kx4K-4\", \"epoch\": \"20220925\", \"request_num\": null, \"obstype\": \"OBJECT\", \"filter\": \"r\", \"processName\": \"MainProcess\"}\n"
     ]
    },
    {
     "name": "stdout",
     "output_type": "stream",
     "text": [
      "2023-03-23 10:57:47.325     INFO:          stages: Running banzai.stages.MosaicCreator | {\"filename\": \"ccd1144-20220925-e00.fits.fz\", \"site\": \"LCO\", \"instrument\": \"Direct/4Kx4K-4\", \"epoch\": \"20220925\", \"request_num\": null, \"obstype\": \"OBJECT\", \"filter\": \"r\", \"processName\": \"MainProcess\"}\n"
     ]
    },
    {
     "name": "stderr",
     "output_type": "stream",
     "text": [
      "INFO:banzai:Running banzai.stages.MosaicCreator | {\"filename\": \"ccd1144-20220925-e00.fits.fz\", \"site\": \"LCO\", \"instrument\": \"Direct/4Kx4K-4\", \"epoch\": \"20220925\", \"request_num\": null, \"obstype\": \"OBJECT\", \"filter\": \"r\", \"processName\": \"MainProcess\"}\n"
     ]
    },
    {
     "name": "stdout",
     "output_type": "stream",
     "text": [
      "2023-03-23 10:57:47.327     INFO:          mosaic: Mosaicing image | {\"filename\": \"ccd1144-20220925-e00.fits.fz\", \"site\": \"LCO\", \"instrument\": \"Direct/4Kx4K-4\", \"epoch\": \"20220925\", \"request_num\": null, \"obstype\": \"OBJECT\", \"filter\": \"r\", \"processName\": \"MainProcess\"}\n"
     ]
    },
    {
     "name": "stderr",
     "output_type": "stream",
     "text": [
      "INFO:banzai:Mosaicing image | {\"filename\": \"ccd1144-20220925-e00.fits.fz\", \"site\": \"LCO\", \"instrument\": \"Direct/4Kx4K-4\", \"epoch\": \"20220925\", \"request_num\": null, \"obstype\": \"OBJECT\", \"filter\": \"r\", \"processName\": \"MainProcess\"}\n"
     ]
    },
    {
     "name": "stdout",
     "output_type": "stream",
     "text": [
      "2023-03-23 10:57:48.753     INFO:          stages: Running banzai.stages.Trimmer | {\"filename\": \"ccd1144-20220925-e00.fits.fz\", \"site\": \"LCO\", \"instrument\": \"Direct/4Kx4K-4\", \"epoch\": \"20220925\", \"request_num\": null, \"obstype\": \"OBJECT\", \"filter\": \"r\", \"processName\": \"MainProcess\"}\n"
     ]
    },
    {
     "name": "stderr",
     "output_type": "stream",
     "text": [
      "INFO:banzai:Running banzai.stages.Trimmer | {\"filename\": \"ccd1144-20220925-e00.fits.fz\", \"site\": \"LCO\", \"instrument\": \"Direct/4Kx4K-4\", \"epoch\": \"20220925\", \"request_num\": null, \"obstype\": \"OBJECT\", \"filter\": \"r\", \"processName\": \"MainProcess\"}\n"
     ]
    },
    {
     "name": "stdout",
     "output_type": "stream",
     "text": [
      "2023-03-23 10:57:48.754     INFO:            trim: Trimming image | {\"filename\": \"ccd1144-20220925-e00.fits.fz\", \"site\": \"LCO\", \"instrument\": \"Direct/4Kx4K-4\", \"epoch\": \"20220925\", \"request_num\": null, \"obstype\": \"OBJECT\", \"filter\": \"r\", \"processName\": \"MainProcess\"}\n"
     ]
    },
    {
     "name": "stderr",
     "output_type": "stream",
     "text": [
      "INFO:banzai:Trimming image | {\"filename\": \"ccd1144-20220925-e00.fits.fz\", \"site\": \"LCO\", \"instrument\": \"Direct/4Kx4K-4\", \"epoch\": \"20220925\", \"request_num\": null, \"obstype\": \"OBJECT\", \"filter\": \"r\", \"processName\": \"MainProcess\"}\n"
     ]
    },
    {
     "name": "stdout",
     "output_type": "stream",
     "text": [
      "2023-03-23 10:57:49.184     INFO:          stages: Running banzai.stages.BiasSubtractor | {\"filename\": \"ccd1144-20220925-e00.fits.fz\", \"site\": \"LCO\", \"instrument\": \"Direct/4Kx4K-4\", \"epoch\": \"20220925\", \"request_num\": null, \"obstype\": \"OBJECT\", \"filter\": \"r\", \"processName\": \"MainProcess\"}\n"
     ]
    },
    {
     "name": "stderr",
     "output_type": "stream",
     "text": [
      "INFO:banzai:Running banzai.stages.BiasSubtractor | {\"filename\": \"ccd1144-20220925-e00.fits.fz\", \"site\": \"LCO\", \"instrument\": \"Direct/4Kx4K-4\", \"epoch\": \"20220925\", \"request_num\": null, \"obstype\": \"OBJECT\", \"filter\": \"r\", \"processName\": \"MainProcess\"}\n"
     ]
    },
    {
     "name": "stdout",
     "output_type": "stream",
     "text": [
      "2023-03-23 10:57:49.878     INFO:    calibrations: Applying master calibration | {\"filename\": \"ccd1144-20220925-e00.fits.fz\", \"site\": \"LCO\", \"instrument\": \"Direct/4Kx4K-4\", \"epoch\": \"20220925\", \"request_num\": null, \"obstype\": \"OBJECT\", \"filter\": \"r\", \"master_calibration\": \"4Kx4K-4-20220925-bias-bin1x1.fits.fz\", \"processName\": \"MainProcess\"}\n"
     ]
    },
    {
     "name": "stderr",
     "output_type": "stream",
     "text": [
      "INFO:banzai:Applying master calibration | {\"filename\": \"ccd1144-20220925-e00.fits.fz\", \"site\": \"LCO\", \"instrument\": \"Direct/4Kx4K-4\", \"epoch\": \"20220925\", \"request_num\": null, \"obstype\": \"OBJECT\", \"filter\": \"r\", \"master_calibration\": \"4Kx4K-4-20220925-bias-bin1x1.fits.fz\", \"processName\": \"MainProcess\"}\n"
     ]
    },
    {
     "name": "stdout",
     "output_type": "stream",
     "text": [
      "2023-03-23 10:57:50.218     INFO:          stages: Running banzai.stages.PoissonInitializer | {\"filename\": \"ccd1144-20220925-e00.fits.fz\", \"site\": \"LCO\", \"instrument\": \"Direct/4Kx4K-4\", \"epoch\": \"20220925\", \"request_num\": null, \"obstype\": \"OBJECT\", \"filter\": \"r\", \"processName\": \"MainProcess\"}\n"
     ]
    },
    {
     "name": "stderr",
     "output_type": "stream",
     "text": [
      "INFO:banzai:Running banzai.stages.PoissonInitializer | {\"filename\": \"ccd1144-20220925-e00.fits.fz\", \"site\": \"LCO\", \"instrument\": \"Direct/4Kx4K-4\", \"epoch\": \"20220925\", \"request_num\": null, \"obstype\": \"OBJECT\", \"filter\": \"r\", \"processName\": \"MainProcess\"}\n"
     ]
    },
    {
     "name": "stdout",
     "output_type": "stream",
     "text": [
      "2023-03-23 10:57:50.386     INFO:          stages: Running banzai.stages.FlatDivider | {\"filename\": \"ccd1144-20220925-e00.fits.fz\", \"site\": \"LCO\", \"instrument\": \"Direct/4Kx4K-4\", \"epoch\": \"20220925\", \"request_num\": null, \"obstype\": \"OBJECT\", \"filter\": \"r\", \"processName\": \"MainProcess\"}\n"
     ]
    },
    {
     "name": "stderr",
     "output_type": "stream",
     "text": [
      "INFO:banzai:Running banzai.stages.FlatDivider | {\"filename\": \"ccd1144-20220925-e00.fits.fz\", \"site\": \"LCO\", \"instrument\": \"Direct/4Kx4K-4\", \"epoch\": \"20220925\", \"request_num\": null, \"obstype\": \"OBJECT\", \"filter\": \"r\", \"processName\": \"MainProcess\"}\n"
     ]
    },
    {
     "name": "stdout",
     "output_type": "stream",
     "text": [
      "2023-03-23 10:57:51.093     INFO:    calibrations: Applying master calibration | {\"filename\": \"ccd1144-20220925-e00.fits.fz\", \"site\": \"LCO\", \"instrument\": \"Direct/4Kx4K-4\", \"epoch\": \"20220925\", \"request_num\": null, \"obstype\": \"OBJECT\", \"filter\": \"r\", \"master_calibration\": \"4Kx4K-4-20220925-flat-bin1x1-r.fits.fz\", \"processName\": \"MainProcess\"}\n"
     ]
    },
    {
     "name": "stderr",
     "output_type": "stream",
     "text": [
      "INFO:banzai:Applying master calibration | {\"filename\": \"ccd1144-20220925-e00.fits.fz\", \"site\": \"LCO\", \"instrument\": \"Direct/4Kx4K-4\", \"epoch\": \"20220925\", \"request_num\": null, \"obstype\": \"OBJECT\", \"filter\": \"r\", \"master_calibration\": \"4Kx4K-4-20220925-flat-bin1x1-r.fits.fz\", \"processName\": \"MainProcess\"}\n"
     ]
    },
    {
     "name": "stdout",
     "output_type": "stream",
     "text": [
      "2023-03-23 10:57:51.095     INFO:           flats: Flattening image | {\"filename\": \"ccd1144-20220925-e00.fits.fz\", \"site\": \"LCO\", \"instrument\": \"Direct/4Kx4K-4\", \"epoch\": \"20220925\", \"request_num\": null, \"obstype\": \"OBJECT\", \"filter\": \"r\", \"master_flat\": \"4Kx4K-4-20220925-flat-bin1x1-r.fits.fz\", \"processName\": \"MainProcess\"}\n"
     ]
    },
    {
     "name": "stderr",
     "output_type": "stream",
     "text": [
      "INFO:banzai:Flattening image | {\"filename\": \"ccd1144-20220925-e00.fits.fz\", \"site\": \"LCO\", \"instrument\": \"Direct/4Kx4K-4\", \"epoch\": \"20220925\", \"request_num\": null, \"obstype\": \"OBJECT\", \"filter\": \"r\", \"master_flat\": \"4Kx4K-4-20220925-flat-bin1x1-r.fits.fz\", \"processName\": \"MainProcess\"}\n"
     ]
    },
    {
     "name": "stdout",
     "output_type": "stream",
     "text": [
      "2023-03-23 10:57:51.594     INFO:          stages: Running banzai.stages.CosmicRayDetector | {\"filename\": \"ccd1144-20220925-e00.fits.fz\", \"site\": \"LCO\", \"instrument\": \"Direct/4Kx4K-4\", \"epoch\": \"20220925\", \"request_num\": null, \"obstype\": \"OBJECT\", \"filter\": \"r\", \"processName\": \"MainProcess\"}\n"
     ]
    },
    {
     "name": "stderr",
     "output_type": "stream",
     "text": [
      "INFO:banzai:Running banzai.stages.CosmicRayDetector | {\"filename\": \"ccd1144-20220925-e00.fits.fz\", \"site\": \"LCO\", \"instrument\": \"Direct/4Kx4K-4\", \"epoch\": \"20220925\", \"request_num\": null, \"obstype\": \"OBJECT\", \"filter\": \"r\", \"processName\": \"MainProcess\"}\n"
     ]
    },
    {
     "name": "stdout",
     "output_type": "stream",
     "text": [
      "2023-03-23 10:59:05.843     INFO:          stages: Running banzai.stages.SourceDetector | {\"filename\": \"ccd1144-20220925-e00.fits.fz\", \"site\": \"LCO\", \"instrument\": \"Direct/4Kx4K-4\", \"epoch\": \"20220925\", \"request_num\": null, \"obstype\": \"OBJECT\", \"filter\": \"r\", \"processName\": \"MainProcess\"}\n"
     ]
    },
    {
     "name": "stderr",
     "output_type": "stream",
     "text": [
      "INFO:banzai:Running banzai.stages.SourceDetector | {\"filename\": \"ccd1144-20220925-e00.fits.fz\", \"site\": \"LCO\", \"instrument\": \"Direct/4Kx4K-4\", \"epoch\": \"20220925\", \"request_num\": null, \"obstype\": \"OBJECT\", \"filter\": \"r\", \"processName\": \"MainProcess\"}\n"
     ]
    },
    {
     "name": "stdout",
     "output_type": "stream",
     "text": [
      "2023-03-23 10:59:09.355     INFO:      photometry: Extracted sources | {\"filename\": \"ccd1144-20220925-e00.fits.fz\", \"site\": \"LCO\", \"instrument\": \"Direct/4Kx4K-4\", \"epoch\": \"20220925\", \"request_num\": null, \"obstype\": \"OBJECT\", \"filter\": \"r\", \"L1MEAN\": 19.67462570565254, \"L1MEDIAN\": 19.651208877563477, \"L1SIGMA\": 0.575552102279663, \"L1FWHM\": 2.0917808801209268, \"L1ELLIP\": 0.12037302339044363, \"L1ELLIPA\": -58.073710705803386, \"processName\": \"MainProcess\"}\n"
     ]
    },
    {
     "name": "stderr",
     "output_type": "stream",
     "text": [
      "INFO:banzai:Extracted sources | {\"filename\": \"ccd1144-20220925-e00.fits.fz\", \"site\": \"LCO\", \"instrument\": \"Direct/4Kx4K-4\", \"epoch\": \"20220925\", \"request_num\": null, \"obstype\": \"OBJECT\", \"filter\": \"r\", \"L1MEAN\": 19.67462570565254, \"L1MEDIAN\": 19.651208877563477, \"L1SIGMA\": 0.575552102279663, \"L1FWHM\": 2.0917808801209268, \"L1ELLIP\": 0.12037302339044363, \"L1ELLIPA\": -58.073710705803386, \"processName\": \"MainProcess\"}\n"
     ]
    },
    {
     "name": "stdout",
     "output_type": "stream",
     "text": [
      "2023-03-23 10:59:09.368     INFO:          stages: Running banzai.stages.WCSSolver | {\"filename\": \"ccd1144-20220925-e00.fits.fz\", \"site\": \"LCO\", \"instrument\": \"Direct/4Kx4K-4\", \"epoch\": \"20220925\", \"request_num\": null, \"obstype\": \"OBJECT\", \"filter\": \"r\", \"processName\": \"MainProcess\"}\n"
     ]
    },
    {
     "name": "stderr",
     "output_type": "stream",
     "text": [
      "INFO:banzai:Running banzai.stages.WCSSolver | {\"filename\": \"ccd1144-20220925-e00.fits.fz\", \"site\": \"LCO\", \"instrument\": \"Direct/4Kx4K-4\", \"epoch\": \"20220925\", \"request_num\": null, \"obstype\": \"OBJECT\", \"filter\": \"r\", \"processName\": \"MainProcess\"}\n",
      "WARNING:py.warnings:/Users/mdaily/Documents/banzai/venv/lib/python3.8/site-packages/astropy/wcs/wcs.py:594: FITSFixedWarning: The WCS transformation has more axes (2) than the image it is associated with (0)\n",
      "  warnings.warn(\n",
      "\n",
      "WARNING:py.warnings:/Users/mdaily/Documents/banzai/venv/lib/python3.8/site-packages/astropy/wcs/wcs.py:803: FITSFixedWarning: 'datfix' made the change 'Set MJD-OBS to 59847.168773 from DATE-OBS'.\n",
      "  warnings.warn(\n",
      "\n"
     ]
    },
    {
     "name": "stdout",
     "output_type": "stream",
     "text": [
      "2023-03-23 10:59:11.949     INFO:      astrometry: Attempted WCS Solve | {\"filename\": \"ccd1144-20220925-e00.fits.fz\", \"site\": \"LCO\", \"instrument\": \"Direct/4Kx4K-4\", \"epoch\": \"20220925\", \"request_num\": null, \"obstype\": \"OBJECT\", \"filter\": \"r\", \"WCSERR\": 0, \"processName\": \"MainProcess\"}\n"
     ]
    },
    {
     "name": "stderr",
     "output_type": "stream",
     "text": [
      "INFO:banzai:Attempted WCS Solve | {\"filename\": \"ccd1144-20220925-e00.fits.fz\", \"site\": \"LCO\", \"instrument\": \"Direct/4Kx4K-4\", \"epoch\": \"20220925\", \"request_num\": null, \"obstype\": \"OBJECT\", \"filter\": \"r\", \"WCSERR\": 0, \"processName\": \"MainProcess\"}\n"
     ]
    },
    {
     "name": "stdout",
     "output_type": "stream",
     "text": [
      "2023-03-23 10:59:11.951     INFO:          stages: Running banzai.stages.PhotometricCalibrator | {\"filename\": \"ccd1144-20220925-e00.fits.fz\", \"site\": \"LCO\", \"instrument\": \"Direct/4Kx4K-4\", \"epoch\": \"20220925\", \"request_num\": null, \"obstype\": \"OBJECT\", \"filter\": \"r\", \"processName\": \"MainProcess\"}\n"
     ]
    },
    {
     "name": "stderr",
     "output_type": "stream",
     "text": [
      "INFO:banzai:Running banzai.stages.PhotometricCalibrator | {\"filename\": \"ccd1144-20220925-e00.fits.fz\", \"site\": \"LCO\", \"instrument\": \"Direct/4Kx4K-4\", \"epoch\": \"20220925\", \"request_num\": null, \"obstype\": \"OBJECT\", \"filter\": \"r\", \"processName\": \"MainProcess\"}\n"
     ]
    }
   ],
   "source": [
    "science_files = glob(os.path.join(mef_combined_data_dir, '*e00*'))\n",
    "for science_file in science_files:\n",
    "    run_pipeline_stages([{'path': science_file}], context)\n",
    "\n"
   ]
  },
  {
   "cell_type": "code",
   "execution_count": null,
   "metadata": {},
   "outputs": [],
   "source": []
  }
 ],
 "metadata": {
  "kernelspec": {
   "display_name": "venv",
   "language": "python",
   "name": "python3"
  },
  "language_info": {
   "codemirror_mode": {
    "name": "ipython",
    "version": 3
   },
   "file_extension": ".py",
   "mimetype": "text/x-python",
   "name": "python",
   "nbconvert_exporter": "python",
   "pygments_lexer": "ipython3",
   "version": "3.8.9"
  },
  "orig_nbformat": 4
 },
 "nbformat": 4,
 "nbformat_minor": 2
}
